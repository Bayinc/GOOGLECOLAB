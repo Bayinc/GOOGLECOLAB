{
  "nbformat": 4,
  "nbformat_minor": 0,
  "metadata": {
    "colab": {
      "provenance": [],
      "include_colab_link": true
    },
    "kernelspec": {
      "name": "python3",
      "display_name": "Python 3"
    },
    "language_info": {
      "name": "python"
    }
  },
  "cells": [
    {
      "cell_type": "markdown",
      "metadata": {
        "id": "view-in-github",
        "colab_type": "text"
      },
      "source": [
        "<a href=\"https://colab.research.google.com/github/Bayinc/GOOGLECOLAB/blob/main/clase_3.ipynb\" target=\"_parent\"><img src=\"https://colab.research.google.com/assets/colab-badge.svg\" alt=\"Open In Colab\"/></a>"
      ]
    },
    {
      "cell_type": "markdown",
      "source": [
        "# Contenidos de esta clase\n",
        "- Función print()\n",
        "- Tipos de datos\n",
        "- Variables\n",
        "- Operaciones matemáticas\n",
        "- Función input()\n"
      ],
      "metadata": {
        "id": "Rw-JfcLsLOKi"
      }
    },
    {
      "cell_type": "markdown",
      "source": [
        "# 1.Variables y Tipos de datos\n",
        "- En Python tenemos diversos tipos de datos, como por ejemplo números, textos, etc.\n",
        "\n",
        "- Las variables son valores almacenados en memoria, y que solemos utilizar en un futuro.\n",
        "\n",
        "- Podemos almacenar diversos tipos de datos en las variables."
      ],
      "metadata": {
        "id": "bDjLljiQL5ez"
      }
    },
    {
      "cell_type": "markdown",
      "source": [
        "## 1.1 Strings (str)\n",
        "- En Python, \"str\" es el tipo de dato que representa cadenas de texto (strings en inglés).\n",
        "\n",
        "- Una cadena (o string) es simplemente una secuencia de caracteres encerrada entre comillas.\n",
        "\n",
        "- Un string puede incluir letras, números, símbolos y espacios."
      ],
      "metadata": {
        "id": "Igjyf0qwMpK9"
      }
    },
    {
      "cell_type": "code",
      "source": [
        "# Por defecto colab muestra el último resultado\n",
        "\"Isaac\""
      ],
      "metadata": {
        "id": "F_bCVGuI9b2f",
        "colab": {
          "base_uri": "https://localhost:8080/",
          "height": 36
        },
        "outputId": "d328aa86-8bed-460d-adc5-d49db5e8cd43"
      },
      "execution_count": null,
      "outputs": [
        {
          "output_type": "execute_result",
          "data": {
            "text/plain": [
              "'Isaac'"
            ],
            "application/vnd.google.colaboratory.intrinsic+json": {
              "type": "string"
            }
          },
          "metadata": {},
          "execution_count": 2
        }
      ]
    },
    {
      "cell_type": "code",
      "source": [
        "# Acá solo mostrará \"IPS DATAX\"\n",
        "\"Isaac\"\n",
        "\"IPS DATAX\""
      ],
      "metadata": {
        "id": "2WhbD0T09yWi",
        "colab": {
          "base_uri": "https://localhost:8080/",
          "height": 36
        },
        "outputId": "c782821e-a3ee-4c7f-c0c1-677818e6d2ae"
      },
      "execution_count": null,
      "outputs": [
        {
          "output_type": "execute_result",
          "data": {
            "text/plain": [
              "'IPS DATAX'"
            ],
            "application/vnd.google.colaboratory.intrinsic+json": {
              "type": "string"
            }
          },
          "metadata": {},
          "execution_count": 3
        }
      ]
    },
    {
      "cell_type": "code",
      "source": [
        "# Print muestra el resultado, sin importar si es último o no\n",
        "# Print será clave en nuestro trabajo\n",
        "# Ojo, print muestra el resultado sin comillas \"\"\n",
        "print(\"Isaac\")\n",
        "print(\"IPS DATAX\")"
      ],
      "metadata": {
        "id": "mErLYwxk95mc",
        "colab": {
          "base_uri": "https://localhost:8080/"
        },
        "outputId": "faaee438-d0dc-4d2d-d604-c11974daa7cb"
      },
      "execution_count": null,
      "outputs": [
        {
          "output_type": "stream",
          "name": "stdout",
          "text": [
            "Isaac\n",
            "IPS DATAX\n"
          ]
        }
      ]
    },
    {
      "cell_type": "code",
      "source": [
        "# Para Python no suele importar si usamos comillas dobles o simples\n",
        "print(\"Isaac\")\n",
        "print('Isaac')"
      ],
      "metadata": {
        "id": "uwqH3uxKCcv2",
        "colab": {
          "base_uri": "https://localhost:8080/"
        },
        "outputId": "80c6cd7a-9d9c-4d2a-9fe9-eeffa8271b77"
      },
      "execution_count": null,
      "outputs": [
        {
          "output_type": "stream",
          "name": "stdout",
          "text": [
            "Isaac\n",
            "Isaac\n"
          ]
        }
      ]
    },
    {
      "cell_type": "code",
      "source": [
        "# Crearemos una variable llamada \"nombre\"\n",
        "# En \"nombre\" almacenaremos el texto \"Isaac\"\n",
        "nombre = \"Isaac\""
      ],
      "metadata": {
        "id": "Uet1HueHNG84"
      },
      "execution_count": null,
      "outputs": []
    },
    {
      "cell_type": "code",
      "source": [
        "# Imprime la variable \"nombre\"\n",
        "print(nombre)"
      ],
      "metadata": {
        "id": "NusClrLCOHQa",
        "colab": {
          "base_uri": "https://localhost:8080/"
        },
        "outputId": "d99522ef-46a9-444f-f964-737cc56cca0b"
      },
      "execution_count": null,
      "outputs": [
        {
          "output_type": "stream",
          "name": "stdout",
          "text": [
            "Isaac\n"
          ]
        }
      ]
    },
    {
      "cell_type": "markdown",
      "source": [
        "La lógica de almacenar valores en variables es clave para el trabajo con cualquier lenguaje de programación."
      ],
      "metadata": {
        "id": "QzKEoV6GDWsB"
      }
    },
    {
      "cell_type": "code",
      "source": [
        "apellido = \"Pérez\""
      ],
      "metadata": {
        "id": "Dr8GafxBOJd4"
      },
      "execution_count": null,
      "outputs": []
    },
    {
      "cell_type": "code",
      "source": [
        "print(apellido)"
      ],
      "metadata": {
        "id": "XLxs0TBYOLkc",
        "colab": {
          "base_uri": "https://localhost:8080/"
        },
        "outputId": "4c255447-0f93-4a4c-fd9b-3919dbf6bda7"
      },
      "execution_count": null,
      "outputs": [
        {
          "output_type": "stream",
          "name": "stdout",
          "text": [
            "Pérez\n"
          ]
        }
      ]
    },
    {
      "cell_type": "code",
      "source": [
        "# Podemos unir textos con el símbolo \"+\"\n",
        "# El símbolo \"+\" también se utiliza para sumar números\n",
        "nombre+apellido"
      ],
      "metadata": {
        "id": "WhuNySE3ONym",
        "colab": {
          "base_uri": "https://localhost:8080/",
          "height": 36
        },
        "outputId": "84be78e8-606b-4544-914f-65ed8ec92be3"
      },
      "execution_count": null,
      "outputs": [
        {
          "output_type": "execute_result",
          "data": {
            "text/plain": [
              "'IsaacPérez'"
            ],
            "application/vnd.google.colaboratory.intrinsic+json": {
              "type": "string"
            }
          },
          "metadata": {},
          "execution_count": 16
        }
      ]
    },
    {
      "cell_type": "code",
      "source": [
        "print(nombre+apellido)"
      ],
      "metadata": {
        "colab": {
          "base_uri": "https://localhost:8080/"
        },
        "id": "cdLqzVWwQXvt",
        "outputId": "fb591114-5bb5-48aa-e32d-dcb9f8bfcc2e"
      },
      "execution_count": null,
      "outputs": [
        {
          "output_type": "stream",
          "name": "stdout",
          "text": [
            "IsaacPérez\n"
          ]
        }
      ]
    },
    {
      "cell_type": "code",
      "source": [
        "# Podemos añadir espacios en blanco y cualquier texto\n",
        "print(nombre+\" \"+apellido)"
      ],
      "metadata": {
        "id": "iyk_s2V-OQqA",
        "colab": {
          "base_uri": "https://localhost:8080/"
        },
        "outputId": "6012be80-e7e0-4c8c-be20-692e9edcb452"
      },
      "execution_count": null,
      "outputs": [
        {
          "output_type": "stream",
          "name": "stdout",
          "text": [
            "Isaac Pérez\n"
          ]
        }
      ]
    },
    {
      "cell_type": "code",
      "source": [
        "espacio = \" \""
      ],
      "metadata": {
        "id": "guFT0DGiEWMz"
      },
      "execution_count": null,
      "outputs": []
    },
    {
      "cell_type": "code",
      "source": [
        "print(nombre+espacio+apellido)"
      ],
      "metadata": {
        "id": "QD_i1O5fD2gX",
        "colab": {
          "base_uri": "https://localhost:8080/"
        },
        "outputId": "48bb16c9-3133-4208-8832-701fe81d8848"
      },
      "execution_count": null,
      "outputs": [
        {
          "output_type": "stream",
          "name": "stdout",
          "text": [
            "Isaac Pérez\n"
          ]
        }
      ]
    },
    {
      "cell_type": "code",
      "source": [
        "# Muestra el tipo de dato indicado\n",
        "type(nombre)"
      ],
      "metadata": {
        "id": "MJ_jsEW-OXXq",
        "colab": {
          "base_uri": "https://localhost:8080/"
        },
        "outputId": "dad88fad-35d0-4143-cc6e-01fda99dd631"
      },
      "execution_count": null,
      "outputs": [
        {
          "output_type": "execute_result",
          "data": {
            "text/plain": [
              "str"
            ]
          },
          "metadata": {},
          "execution_count": 23
        }
      ]
    },
    {
      "cell_type": "code",
      "source": [
        "# ¿Y si unimos un str + int?\n",
        "\"perro\"+15"
      ],
      "metadata": {
        "id": "mme7A9KIK6ex"
      },
      "execution_count": null,
      "outputs": []
    },
    {
      "cell_type": "code",
      "source": [
        "print(\"perro\"+15)"
      ],
      "metadata": {
        "id": "sqtxP9CGQh07"
      },
      "execution_count": null,
      "outputs": []
    },
    {
      "cell_type": "markdown",
      "source": [
        "## 1.2 Integers (int)\n",
        "- En Python, int es el tipo de dato que representa números enteros, es decir, números sin decimales.\n",
        "\n",
        "- Esto incluye tanto números positivos, negativos y el cero."
      ],
      "metadata": {
        "id": "iqFMEq4HMwpk"
      }
    },
    {
      "cell_type": "code",
      "source": [
        "a = 10"
      ],
      "metadata": {
        "id": "Cw_v1y0FPr1Y"
      },
      "execution_count": null,
      "outputs": []
    },
    {
      "cell_type": "code",
      "source": [
        "print(a)"
      ],
      "metadata": {
        "id": "NpZtCIiCPtMr",
        "colab": {
          "base_uri": "https://localhost:8080/"
        },
        "outputId": "9d9a4009-38ab-4518-f4d2-79af4c786179"
      },
      "execution_count": null,
      "outputs": [
        {
          "output_type": "stream",
          "name": "stdout",
          "text": [
            "10\n"
          ]
        }
      ]
    },
    {
      "cell_type": "code",
      "source": [
        "b = 15"
      ],
      "metadata": {
        "id": "3r5Yp2fdPvrm"
      },
      "execution_count": null,
      "outputs": []
    },
    {
      "cell_type": "code",
      "source": [
        "print(b)"
      ],
      "metadata": {
        "id": "Wgd5iyHDPyai",
        "colab": {
          "base_uri": "https://localhost:8080/"
        },
        "outputId": "cab608d9-8340-4e35-b7d8-0a7f1f23bd96"
      },
      "execution_count": null,
      "outputs": [
        {
          "output_type": "stream",
          "name": "stdout",
          "text": [
            "15\n"
          ]
        }
      ]
    },
    {
      "cell_type": "code",
      "source": [
        "# Usamos \"+\" para sumar números\n",
        "print(a+b)"
      ],
      "metadata": {
        "id": "Q7uodAM8P3V1",
        "colab": {
          "base_uri": "https://localhost:8080/"
        },
        "outputId": "4d490ac6-e6ea-49c4-ee95-1263d18ae016"
      },
      "execution_count": null,
      "outputs": [
        {
          "output_type": "stream",
          "name": "stdout",
          "text": [
            "25\n"
          ]
        }
      ]
    },
    {
      "cell_type": "code",
      "source": [
        "# Podemos hacer varias operaciones en la misma celda\n",
        "c = a*b\n",
        "print(c)"
      ],
      "metadata": {
        "id": "wCA962NxP4WT",
        "colab": {
          "base_uri": "https://localhost:8080/"
        },
        "outputId": "2c5e0181-6aaa-400b-fb5f-1d76245a856f"
      },
      "execution_count": null,
      "outputs": [
        {
          "output_type": "stream",
          "name": "stdout",
          "text": [
            "150\n"
          ]
        }
      ]
    },
    {
      "cell_type": "code",
      "source": [
        "type(c)"
      ],
      "metadata": {
        "id": "USVUpOciQCIA",
        "colab": {
          "base_uri": "https://localhost:8080/"
        },
        "outputId": "09c6ac62-26f7-428e-e07d-e5a5676c9cc8"
      },
      "execution_count": null,
      "outputs": [
        {
          "output_type": "execute_result",
          "data": {
            "text/plain": [
              "int"
            ]
          },
          "metadata": {},
          "execution_count": 32
        }
      ]
    },
    {
      "cell_type": "markdown",
      "source": [
        "## 1.2 Booleanos (bool)\n",
        "- Son un tipo de dato que tiene dos posibles valores, verdadero o falso.\n",
        "- Se utilizan bastante en condicionales, ciclos, y muchas cosas más.\n",
        "- Verdadero se asocia a 1 y falso se asocia a 0."
      ],
      "metadata": {
        "id": "4f4yuUOaMwwj"
      }
    },
    {
      "cell_type": "code",
      "execution_count": null,
      "metadata": {
        "id": "6GT9VZnnLwts"
      },
      "outputs": [],
      "source": [
        "a = True"
      ]
    },
    {
      "cell_type": "code",
      "source": [
        "b = False"
      ],
      "metadata": {
        "id": "HCoSMLokQGxv"
      },
      "execution_count": null,
      "outputs": []
    },
    {
      "cell_type": "code",
      "source": [
        "type(a)"
      ],
      "metadata": {
        "id": "B2iG6vbGQIMu",
        "colab": {
          "base_uri": "https://localhost:8080/"
        },
        "outputId": "78e37158-323f-4b29-a19c-94961765acce"
      },
      "execution_count": null,
      "outputs": [
        {
          "output_type": "execute_result",
          "data": {
            "text/plain": [
              "bool"
            ]
          },
          "metadata": {},
          "execution_count": 35
        }
      ]
    },
    {
      "cell_type": "code",
      "source": [
        "type(b)"
      ],
      "metadata": {
        "id": "yOMHpyDpQJoT",
        "colab": {
          "base_uri": "https://localhost:8080/"
        },
        "outputId": "e55abac2-9f21-4f06-d3dd-21c8cfc89017"
      },
      "execution_count": null,
      "outputs": [
        {
          "output_type": "execute_result",
          "data": {
            "text/plain": [
              "bool"
            ]
          },
          "metadata": {},
          "execution_count": 36
        }
      ]
    },
    {
      "cell_type": "code",
      "source": [
        "True + True"
      ],
      "metadata": {
        "colab": {
          "base_uri": "https://localhost:8080/"
        },
        "id": "UrHQt-4PRD5E",
        "outputId": "ce1affaa-ce87-435a-82ce-b4fe6ec51729"
      },
      "execution_count": null,
      "outputs": [
        {
          "output_type": "execute_result",
          "data": {
            "text/plain": [
              "2"
            ]
          },
          "metadata": {},
          "execution_count": 37
        }
      ]
    },
    {
      "cell_type": "code",
      "source": [
        "# Podemos evaluar operaciones relacionales\n",
        "# En este caso evaluaremos si 10 es mayor que 5\n",
        "10>5"
      ],
      "metadata": {
        "id": "YlCxsNglQPtP",
        "colab": {
          "base_uri": "https://localhost:8080/"
        },
        "outputId": "53c11e5a-1f9b-463c-818b-527bc9d9f663"
      },
      "execution_count": null,
      "outputs": [
        {
          "output_type": "execute_result",
          "data": {
            "text/plain": [
              "True"
            ]
          },
          "metadata": {},
          "execution_count": 38
        }
      ]
    },
    {
      "cell_type": "code",
      "source": [
        "# Podemos analizar el tipo de dato de la operación realizada\n",
        "type(10>5)"
      ],
      "metadata": {
        "id": "PtptJZI9QLRW",
        "colab": {
          "base_uri": "https://localhost:8080/"
        },
        "outputId": "8149d016-4e3e-4e34-d114-93ba8bbdb437"
      },
      "execution_count": null,
      "outputs": [
        {
          "output_type": "execute_result",
          "data": {
            "text/plain": [
              "bool"
            ]
          },
          "metadata": {},
          "execution_count": 39
        }
      ]
    },
    {
      "cell_type": "markdown",
      "source": [
        "# 2.Operaciones matemáticas\n",
        "- Los símbolos son muy similares a los que solemos utilizar en nuestro día a día.\n",
        "- suma (+)\n",
        "- resta (-)\n",
        "- división (/)\n",
        "- mútiplicación (*)"
      ],
      "metadata": {
        "id": "W6eeN9fXMJhD"
      }
    },
    {
      "cell_type": "code",
      "source": [
        "a = 15"
      ],
      "metadata": {
        "id": "477jEAZ4QS0-"
      },
      "execution_count": null,
      "outputs": []
    },
    {
      "cell_type": "code",
      "source": [
        "b = 20"
      ],
      "metadata": {
        "id": "MfStfRR8QUM7"
      },
      "execution_count": null,
      "outputs": []
    },
    {
      "cell_type": "code",
      "source": [
        "c = a+a*b\n",
        "print(c)"
      ],
      "metadata": {
        "id": "eZbAHiNZQWi7",
        "colab": {
          "base_uri": "https://localhost:8080/"
        },
        "outputId": "15e31250-7f8c-4c2a-fdd0-f99d29787331"
      },
      "execution_count": null,
      "outputs": [
        {
          "output_type": "stream",
          "name": "stdout",
          "text": [
            "315\n"
          ]
        }
      ]
    },
    {
      "cell_type": "code",
      "source": [
        "# Podemos utilizar variables para las operaciones matemáticas\n",
        "peso = 80\n",
        "altura = 1.80\n",
        "\n",
        "IMC = peso/(altura*altura)\n",
        "\n",
        "print(IMC)"
      ],
      "metadata": {
        "id": "57Ug7RlNQmYD",
        "colab": {
          "base_uri": "https://localhost:8080/"
        },
        "outputId": "afc8f9d3-93a4-42e2-9c5d-c26f36ab1582"
      },
      "execution_count": null,
      "outputs": [
        {
          "output_type": "stream",
          "name": "stdout",
          "text": [
            "24.691358024691358\n"
          ]
        }
      ]
    },
    {
      "cell_type": "markdown",
      "source": [
        "# 3.Obtener valores\n",
        "- Podemos hacer que la computadora nos pida insertar información.\n",
        "- Esta información suele utilizarse para otro tipo de operaciones.\n",
        "- En este caso usaremos \"input\" para capturar los valores que insertemos."
      ],
      "metadata": {
        "id": "VvlToq44lXQv"
      }
    },
    {
      "cell_type": "code",
      "source": [
        "# Capturaremos el valor insertado y lo almacenaremos en \"a\"\n",
        "a = input()"
      ],
      "metadata": {
        "id": "mQ_LXUFVledp",
        "colab": {
          "base_uri": "https://localhost:8080/"
        },
        "outputId": "eb398469-0f71-46e9-ee21-ef7b7e633b7c"
      },
      "execution_count": null,
      "outputs": [
        {
          "name": "stdout",
          "output_type": "stream",
          "text": [
            "perro\n"
          ]
        }
      ]
    },
    {
      "cell_type": "code",
      "source": [
        "print(a)"
      ],
      "metadata": {
        "id": "VtVJdMnUl3Mh",
        "colab": {
          "base_uri": "https://localhost:8080/"
        },
        "outputId": "2bf9d2de-1a97-4b9a-b3af-0cbcc47a869a"
      },
      "execution_count": null,
      "outputs": [
        {
          "output_type": "stream",
          "name": "stdout",
          "text": [
            "perro\n"
          ]
        }
      ]
    },
    {
      "cell_type": "code",
      "source": [
        "# Podemos añadir un mensaje indicando lo que se debe ingresar\n",
        "b = input(\"Ingresa tu país\")"
      ],
      "metadata": {
        "id": "rdfW9ngsl4lD",
        "colab": {
          "base_uri": "https://localhost:8080/"
        },
        "outputId": "1efe7608-5d92-4966-b6a9-c51022bc8774"
      },
      "execution_count": null,
      "outputs": [
        {
          "name": "stdout",
          "output_type": "stream",
          "text": [
            "Ingresa tu paísColombia\n"
          ]
        }
      ]
    },
    {
      "cell_type": "code",
      "source": [
        "print(b)"
      ],
      "metadata": {
        "id": "vtVOS7mZmCJT",
        "colab": {
          "base_uri": "https://localhost:8080/"
        },
        "outputId": "de6762c4-c1cc-45dc-ad34-c7524f513876"
      },
      "execution_count": null,
      "outputs": [
        {
          "output_type": "stream",
          "name": "stdout",
          "text": [
            "Chile\n"
          ]
        }
      ]
    },
    {
      "cell_type": "code",
      "source": [
        "print(\"Tu país es: \")"
      ],
      "metadata": {
        "id": "KUFJD2JBmRzg",
        "colab": {
          "base_uri": "https://localhost:8080/"
        },
        "outputId": "4a590a50-114f-4615-d84e-faf5da057675"
      },
      "execution_count": null,
      "outputs": [
        {
          "output_type": "stream",
          "name": "stdout",
          "text": [
            "Tu país es: \n"
          ]
        }
      ]
    },
    {
      "cell_type": "code",
      "source": [
        "# Imprimimos un texto plano junto con el valor capturado\n",
        "print(\"Tu país es: \"+b)"
      ],
      "metadata": {
        "id": "KWNlAQMHmGbx",
        "colab": {
          "base_uri": "https://localhost:8080/"
        },
        "outputId": "5d439950-c138-4478-bbdd-66f970a80830"
      },
      "execution_count": null,
      "outputs": [
        {
          "output_type": "stream",
          "name": "stdout",
          "text": [
            "Tu país es: Colombia\n"
          ]
        }
      ]
    },
    {
      "cell_type": "code",
      "source": [
        "# Capturaremos dos valores y luego realizaremos una operación con los datos obtenidos\n",
        "nombre = input(\"Ingresa tu nombre: \")\n",
        "edad = input(\"Ingresa tu edad: \")\n",
        "\n",
        "print(\"Tu nombre es \"+nombre+\" y tu edad es \"+edad)"
      ],
      "metadata": {
        "id": "XcP_8fVwmV-l",
        "colab": {
          "base_uri": "https://localhost:8080/"
        },
        "outputId": "a3e10a45-e9fd-4714-cc4a-04c84356aaf4"
      },
      "execution_count": null,
      "outputs": [
        {
          "output_type": "stream",
          "name": "stdout",
          "text": [
            "Ingresa tu nombre: Isaac\n",
            "Ingresa tu edad: 29\n",
            "Tu nombre es Isaac y tu edad es 29\n"
          ]
        }
      ]
    },
    {
      "cell_type": "code",
      "source": [
        "# Calcularemos el IMC en base a los datos solicitados\n",
        "peso = input(\"Ingresa tu peso: \")\n",
        "altura = input(\"Ingresa tu altura: \")\n",
        "\n",
        "IMC = peso/(altura*altura)\n",
        "print(IMC)"
      ],
      "metadata": {
        "id": "n2WZ75TRH5vf"
      },
      "execution_count": null,
      "outputs": []
    },
    {
      "cell_type": "markdown",
      "source": [
        "Podemos ver que da error.\n",
        "\n",
        "Esto es porque \"input\" por defecto transforma todo en str, por lo que debemos realizar un ajuste."
      ],
      "metadata": {
        "id": "Am2ps--HIp9q"
      }
    },
    {
      "cell_type": "code",
      "source": [
        "# Ahora utilizaremos la función int() para convertir el str en número entero\n",
        "\n",
        "peso = int(input(\"Ingresa tu peso (kg): \"))\n",
        "altura = int(input(\"Ingresa tu altura (en centímetros): \"))\n",
        "\n",
        "IMC = peso/(altura/100*altura/100)\n",
        "print(IMC)"
      ],
      "metadata": {
        "id": "G4aix1h0IpIq",
        "colab": {
          "base_uri": "https://localhost:8080/"
        },
        "outputId": "5fb65d14-1e6a-4782-d17b-6c3c86340ed1"
      },
      "execution_count": null,
      "outputs": [
        {
          "output_type": "stream",
          "name": "stdout",
          "text": [
            "Ingresa tu peso (kg): 80\n",
            "Ingresa tu altura (en centímetros): 180\n",
            "24.691358024691358\n"
          ]
        }
      ]
    },
    {
      "cell_type": "markdown",
      "source": [
        "- Ojo, podríamos hacer algo como print(\"Tu IMC es de: \"+IMC), pero nos da un error al sumar número con textos (esto se soluciona convirtiendo el número a str)\n",
        "- Más allá de la operación, que podría ser mejorable, lo interesante es que escribimos un código que tiene una finalidad útil, calcular el IMC."
      ],
      "metadata": {
        "id": "wPYnXLFXJXda"
      }
    },
    {
      "cell_type": "markdown",
      "source": [
        "# Conclusiones:\n",
        "- print() es muy útil, y lo utilizaremos demasiado en nuestro trabajo.\n",
        "- Existen diversos tipos de datos, lo que vimos es una pincelada.\n",
        "- Las variables son útiles para almacenar valores y reutilizarlos en un futuro.\n",
        "- Podemos interactuar con la computadora y extraer valores para diversos usos.\n",
        "- input() convierte todo a texto y print no puede usar \"+\" entre textos y números.\n"
      ],
      "metadata": {
        "id": "UBek6jy7Jl5S"
      }
    }
  ]
}