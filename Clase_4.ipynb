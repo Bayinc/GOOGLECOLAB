{
  "nbformat": 4,
  "nbformat_minor": 0,
  "metadata": {
    "colab": {
      "provenance": [],
      "include_colab_link": true
    },
    "kernelspec": {
      "name": "python3",
      "display_name": "Python 3"
    },
    "language_info": {
      "name": "python"
    }
  },
  "cells": [
    {
      "cell_type": "markdown",
      "metadata": {
        "id": "view-in-github",
        "colab_type": "text"
      },
      "source": [
        "<a href=\"https://colab.research.google.com/github/Bayinc/GOOGLECOLAB/blob/main/Clase_4.ipynb\" target=\"_parent\"><img src=\"https://colab.research.google.com/assets/colab-badge.svg\" alt=\"Open In Colab\"/></a>"
      ]
    },
    {
      "cell_type": "markdown",
      "source": [
        "# Contenidos de esta clase\n",
        "- Listas\n",
        "- Operaciones con listas"
      ],
      "metadata": {
        "id": "JrZ8kLEmMNiT"
      }
    },
    {
      "cell_type": "markdown",
      "source": [
        "# 1. Lista\n",
        "- Una lista en Python es una estructura de datos que permite almacenar múltiples valores en una sola variable.\n",
        "- Las listas pueden contener números, textos, booleanos, otras listas o cualquier tipo de dato, incluso mezclados.\n",
        "- Se definen con corchetes [ ] o con la función list()\n",
        "\n",
        "- Los elementos están separados por comas.\n",
        "\n",
        "- Son mutables (pueden cambiarse una vez creadas)\n",
        "\n",
        "- Tienen un orden: cada elemento tiene una posición (índice)"
      ],
      "metadata": {
        "id": "bPhLdqs-bfXP"
      }
    },
    {
      "cell_type": "markdown",
      "source": [
        "## 1.1 Conceptos básicos"
      ],
      "metadata": {
        "id": "GwsDNQGAehVr"
      }
    },
    {
      "cell_type": "code",
      "execution_count": null,
      "metadata": {
        "id": "H60mifO9Q5GP"
      },
      "outputs": [],
      "source": [
        "# Crea una lista vacía\n",
        "lista = []"
      ]
    },
    {
      "cell_type": "code",
      "source": [
        "# Revisamos la lista vacía\n",
        "print(lista)"
      ],
      "metadata": {
        "id": "HatZRO2WcwhM",
        "colab": {
          "base_uri": "https://localhost:8080/"
        },
        "outputId": "d560ca4c-e2ba-4755-a433-ed7c3816dd58"
      },
      "execution_count": null,
      "outputs": [
        {
          "output_type": "stream",
          "name": "stdout",
          "text": [
            "[]\n"
          ]
        }
      ]
    },
    {
      "cell_type": "code",
      "source": [
        "# Revisamos el tipo de dato/estructura\n",
        "type(lista)"
      ],
      "metadata": {
        "colab": {
          "base_uri": "https://localhost:8080/"
        },
        "id": "Daz-XZGF15Xd",
        "outputId": "07622807-ffec-4108-e9c9-075c9060cee0"
      },
      "execution_count": null,
      "outputs": [
        {
          "output_type": "execute_result",
          "data": {
            "text/plain": [
              "list"
            ]
          },
          "metadata": {},
          "execution_count": 5
        }
      ]
    },
    {
      "cell_type": "code",
      "source": [
        "# Crea una lista vacía\n",
        "lista = list()"
      ],
      "metadata": {
        "id": "EAXttOmHcyU2"
      },
      "execution_count": null,
      "outputs": []
    },
    {
      "cell_type": "code",
      "source": [
        "print(lista)"
      ],
      "metadata": {
        "colab": {
          "base_uri": "https://localhost:8080/"
        },
        "id": "1l4_NSJDc1Ag",
        "outputId": "7e138911-9cbf-482d-ac60-2f7bc6b7fc5b"
      },
      "execution_count": null,
      "outputs": [
        {
          "output_type": "stream",
          "name": "stdout",
          "text": [
            "[]\n"
          ]
        }
      ]
    },
    {
      "cell_type": "code",
      "source": [
        "type(lista)"
      ],
      "metadata": {
        "colab": {
          "base_uri": "https://localhost:8080/"
        },
        "id": "jmswf0jY1768",
        "outputId": "842830a5-488d-4e9a-c945-98cfc7066ced"
      },
      "execution_count": null,
      "outputs": [
        {
          "output_type": "execute_result",
          "data": {
            "text/plain": [
              "list"
            ]
          },
          "metadata": {},
          "execution_count": 8
        }
      ]
    },
    {
      "cell_type": "markdown",
      "source": [
        "Ahora crearemos una lista con elementos para entender cómo funciona."
      ],
      "metadata": {
        "id": "oX_W28gRZB6k"
      }
    },
    {
      "cell_type": "code",
      "source": [
        "# Crea una lista con 3 elementos\n",
        "nombres = [\"Isaac\",\"Diego\",\"Alejandra\"]"
      ],
      "metadata": {
        "id": "Fw2bsrqkc8EJ"
      },
      "execution_count": null,
      "outputs": []
    },
    {
      "cell_type": "code",
      "source": [
        "# Imprime la lista\n",
        "print(nombres)"
      ],
      "metadata": {
        "colab": {
          "base_uri": "https://localhost:8080/"
        },
        "id": "MijVyltrd73i",
        "outputId": "6d79c92f-e05a-488c-d665-bfa79660afc1"
      },
      "execution_count": null,
      "outputs": [
        {
          "output_type": "stream",
          "name": "stdout",
          "text": [
            "['Isaac', 'Diego', 'Alejandra']\n"
          ]
        }
      ]
    },
    {
      "cell_type": "code",
      "source": [
        "notas = [5,6,6.8]"
      ],
      "metadata": {
        "id": "2rSWMlvcd9Ul"
      },
      "execution_count": null,
      "outputs": []
    },
    {
      "cell_type": "code",
      "source": [
        "print(notas)"
      ],
      "metadata": {
        "colab": {
          "base_uri": "https://localhost:8080/"
        },
        "id": "3niuwODveD0H",
        "outputId": "75b650a7-3dda-46d5-e6d1-2f99fb8060ad"
      },
      "execution_count": null,
      "outputs": [
        {
          "output_type": "stream",
          "name": "stdout",
          "text": [
            "[5, 6, 6.8]\n"
          ]
        }
      ]
    },
    {
      "cell_type": "code",
      "source": [
        "# Esto no funciona ya que list() convierte cosas a listas, pero separado por \",\" ya es una lista\n",
        "notas_2 = list(5,7,15)\n",
        "print(notas_2)"
      ],
      "metadata": {
        "id": "4Xdc36WURU7r"
      },
      "execution_count": null,
      "outputs": []
    },
    {
      "cell_type": "markdown",
      "source": [
        "## 1.2 Acceder a elementos de listas\n",
        "\n",
        "- Podemos extraer la información que necesitemos de una lista mediante índices.\n",
        "- Los índices en Python comienzan desde 0, por lo que la posición 0 sería el primer elemento."
      ],
      "metadata": {
        "id": "o2qtFUY9fM0O"
      }
    },
    {
      "cell_type": "code",
      "source": [
        "empresas = [\"Apple\",\"Samsung\",\"Xiaomi\",\"Huawei\"]"
      ],
      "metadata": {
        "id": "v1vTucQmfndT"
      },
      "execution_count": null,
      "outputs": []
    },
    {
      "cell_type": "code",
      "source": [
        "# Primera empresa\n",
        "empresas[0]"
      ],
      "metadata": {
        "colab": {
          "base_uri": "https://localhost:8080/",
          "height": 36
        },
        "id": "Hqtl81Rdf-Dj",
        "outputId": "9665780c-02a4-443b-cee6-4221df0641dd"
      },
      "execution_count": null,
      "outputs": [
        {
          "output_type": "execute_result",
          "data": {
            "text/plain": [
              "'Apple'"
            ],
            "application/vnd.google.colaboratory.intrinsic+json": {
              "type": "string"
            }
          },
          "metadata": {},
          "execution_count": 17
        }
      ]
    },
    {
      "cell_type": "code",
      "source": [
        "# Tercera empresa\n",
        "empresas[2]"
      ],
      "metadata": {
        "colab": {
          "base_uri": "https://localhost:8080/",
          "height": 36
        },
        "id": "ctpLIgwigNGD",
        "outputId": "310d6dfe-66ab-4305-f55f-afd78b34c761"
      },
      "execution_count": null,
      "outputs": [
        {
          "output_type": "execute_result",
          "data": {
            "text/plain": [
              "'Xiaomi'"
            ],
            "application/vnd.google.colaboratory.intrinsic+json": {
              "type": "string"
            }
          },
          "metadata": {},
          "execution_count": 18
        }
      ]
    },
    {
      "cell_type": "code",
      "source": [
        "# última empresa\n",
        "empresas[-1]"
      ],
      "metadata": {
        "colab": {
          "base_uri": "https://localhost:8080/",
          "height": 36
        },
        "id": "0ZABO3bMg0sP",
        "outputId": "856cd45c-9203-4bc5-f51e-6426b856747c"
      },
      "execution_count": null,
      "outputs": [
        {
          "output_type": "execute_result",
          "data": {
            "text/plain": [
              "'Huawei'"
            ],
            "application/vnd.google.colaboratory.intrinsic+json": {
              "type": "string"
            }
          },
          "metadata": {},
          "execution_count": 22
        }
      ]
    },
    {
      "cell_type": "markdown",
      "source": [
        "Observamos que el índice -1 comienza de atrás hacia adelante."
      ],
      "metadata": {
        "id": "WoH_pBovjOft"
      }
    },
    {
      "cell_type": "markdown",
      "source": [
        "## 1.3 Unión de listas\n",
        "- En Python podemos unir listas y crear nuevas listas."
      ],
      "metadata": {
        "id": "MLv6D2n9hOlv"
      }
    },
    {
      "cell_type": "code",
      "source": [
        "peliculas_disney = [\"Rey león\",\"Mulán\"]"
      ],
      "metadata": {
        "id": "Fodi-M8ihTWk"
      },
      "execution_count": null,
      "outputs": []
    },
    {
      "cell_type": "code",
      "source": [
        "peliculas_pixar = [\"Coco\",\"Up\"]"
      ],
      "metadata": {
        "id": "DbQTi0HkhgO8"
      },
      "execution_count": null,
      "outputs": []
    },
    {
      "cell_type": "code",
      "source": [
        "# Creamos una nueva lista que es la suma de otra dos listas\n",
        "\n",
        "peliculas_total = peliculas_disney + peliculas_pixar"
      ],
      "metadata": {
        "id": "8cQnogRUiBy0"
      },
      "execution_count": null,
      "outputs": []
    },
    {
      "cell_type": "code",
      "source": [
        "print(peliculas_total)"
      ],
      "metadata": {
        "colab": {
          "base_uri": "https://localhost:8080/"
        },
        "id": "uHmP5U7ZiLd9",
        "outputId": "769f0ba5-06bb-4139-da5c-21f2b440657a"
      },
      "execution_count": null,
      "outputs": [
        {
          "output_type": "stream",
          "name": "stdout",
          "text": [
            "['Rey león', 'Mulán', 'Coco', 'Up']\n"
          ]
        }
      ]
    },
    {
      "cell_type": "code",
      "source": [
        "# extend() es un método de las listas, algo así como una de muchas funciones que poseen las listas\n",
        "# Extiende la lista inicial\n",
        "\n",
        "peliculas_disney.extend(peliculas_pixar)"
      ],
      "metadata": {
        "id": "UB_o-UVEi7GV"
      },
      "execution_count": null,
      "outputs": []
    },
    {
      "cell_type": "code",
      "source": [
        "peliculas_disney"
      ],
      "metadata": {
        "colab": {
          "base_uri": "https://localhost:8080/"
        },
        "id": "807UygK-jZU9",
        "outputId": "36dd59f2-d90d-4902-c671-c37fdad499da"
      },
      "execution_count": null,
      "outputs": [
        {
          "output_type": "execute_result",
          "data": {
            "text/plain": [
              "['Rey león', 'Mulán', 'Coco', 'Up']"
            ]
          },
          "metadata": {},
          "execution_count": 29
        }
      ]
    },
    {
      "cell_type": "markdown",
      "source": [
        "## 1.4 Métodos de listas\n",
        "- Los métodos de listas son funciones especiales que están asociadas a objetos de tipo list.\n",
        "- Permiten modificar o consultar la lista directamente.\n",
        "- Más adelante veremos que existen muchos tipos de objetos con sus funciones personalizadas.\n",
        "\n",
        "Veamos unos ejemplos:"
      ],
      "metadata": {
        "id": "HmiucU2TjiRb"
      }
    },
    {
      "cell_type": "code",
      "source": [
        "deportes = [\"fútbol\",\"basquetball\",\"handboll\",\"atletismo\",\"alterofilia\"]"
      ],
      "metadata": {
        "id": "Xgb-LPc4jk-s"
      },
      "execution_count": null,
      "outputs": []
    },
    {
      "cell_type": "code",
      "source": [
        "# El método pop() elimina un elemento de la lista basado en la posición\n",
        "deportes.pop(1)\n",
        "print(deportes)"
      ],
      "metadata": {
        "colab": {
          "base_uri": "https://localhost:8080/"
        },
        "id": "f37LicZgj5ZU",
        "outputId": "d45fca93-48c9-4fd5-9753-684de8e03a18"
      },
      "execution_count": null,
      "outputs": [
        {
          "output_type": "stream",
          "name": "stdout",
          "text": [
            "['fútbol', 'handboll', 'atletismo', 'alterofilia']\n"
          ]
        }
      ]
    },
    {
      "cell_type": "code",
      "source": [
        "# El método remove() elimina un elemento de a lista basado en nombre del elemento\n",
        "deportes.remove(\"fútbol\")\n",
        "print(deportes)"
      ],
      "metadata": {
        "colab": {
          "base_uri": "https://localhost:8080/"
        },
        "id": "-VGGXc8Sj--Y",
        "outputId": "eebe5442-9fee-4c83-cd81-563fce1f2068"
      },
      "execution_count": null,
      "outputs": [
        {
          "output_type": "stream",
          "name": "stdout",
          "text": [
            "['handboll', 'atletismo', 'alterofilia']\n"
          ]
        }
      ]
    },
    {
      "cell_type": "code",
      "source": [
        "# El método count() cuenta cuantas veces aparece un elemento en una lista.\n",
        "nombres = [\"pedro\",\"diego\",\"pedro\",\"maría\",\"pedro\"]\n",
        "nombres.count(\"pedro\")"
      ],
      "metadata": {
        "colab": {
          "base_uri": "https://localhost:8080/"
        },
        "id": "1e0U-_UNsrWW",
        "outputId": "bca38f1a-807e-4466-bdfc-7cea5a7d8c4c"
      },
      "execution_count": null,
      "outputs": [
        {
          "output_type": "execute_result",
          "data": {
            "text/plain": [
              "3"
            ]
          },
          "metadata": {},
          "execution_count": 34
        }
      ]
    },
    {
      "cell_type": "markdown",
      "source": [
        "## 1.5 Utilidades de listas\n",
        "- Las listas tienen muchas utilidades en el trabajo con datos, pero necesitamos más conocimiento para extraer su potencial.\n",
        "\n",
        "- Por ahora te dejaré algunos pequeños ejemplos de su uso como estructura de datos."
      ],
      "metadata": {
        "id": "sVpnRtYftJ93"
      }
    },
    {
      "cell_type": "code",
      "source": [
        "notas = [7,5,6,5.5,4,4.6,5.7]"
      ],
      "metadata": {
        "id": "1cm_5FqdtpHS"
      },
      "execution_count": null,
      "outputs": []
    },
    {
      "cell_type": "code",
      "source": [
        "# ¿Cuál es la nota mayor?\n",
        "max(notas)"
      ],
      "metadata": {
        "colab": {
          "base_uri": "https://localhost:8080/"
        },
        "id": "r9SAsmn_tsT4",
        "outputId": "fd46dc10-c4bb-4c8d-aa1c-ba28afe1837b"
      },
      "execution_count": null,
      "outputs": [
        {
          "output_type": "execute_result",
          "data": {
            "text/plain": [
              "7"
            ]
          },
          "metadata": {},
          "execution_count": 36
        }
      ]
    },
    {
      "cell_type": "code",
      "source": [
        "# ¿Cuál es la nota promedio?\n",
        "sum(notas)/len(notas)"
      ],
      "metadata": {
        "colab": {
          "base_uri": "https://localhost:8080/"
        },
        "id": "hw3u_Smht6MU",
        "outputId": "548973d2-572d-4d23-f86d-c0265d34b706"
      },
      "execution_count": null,
      "outputs": [
        {
          "output_type": "execute_result",
          "data": {
            "text/plain": [
              "5.4"
            ]
          },
          "metadata": {},
          "execution_count": 37
        }
      ]
    },
    {
      "cell_type": "code",
      "source": [
        "# Cómo son las notas ordenadas de menor a mayor\n",
        "notas.sort()\n",
        "print(notas)"
      ],
      "metadata": {
        "colab": {
          "base_uri": "https://localhost:8080/"
        },
        "id": "UV_-NpgNuPXs",
        "outputId": "3e76770a-baf0-4bcf-affc-f5f1fa875d72"
      },
      "execution_count": null,
      "outputs": [
        {
          "output_type": "stream",
          "name": "stdout",
          "text": [
            "[4, 4.6, 5, 5.5, 5.7, 6, 7]\n"
          ]
        }
      ]
    },
    {
      "cell_type": "markdown",
      "source": [
        "Ojo que métodos como sort() operar sobre la misma lista, es decir, modifica la lista inicial."
      ],
      "metadata": {
        "id": "S-cpKlwhuV-_"
      }
    },
    {
      "cell_type": "markdown",
      "source": [
        "# Conclusiones\n",
        "- Las listas son estructuras de datos que almacenan información.\n",
        "- La información almacenada en listas podemos utilizarla para los fines que necesitemos.\n",
        "- Existen muchísimas estructuras de datos, y entender las listas es clave para entender otras estructuras de datos más complejas."
      ],
      "metadata": {
        "id": "NqcF2OHiueG_"
      }
    }
  ]
}