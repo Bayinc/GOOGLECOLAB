{
  "nbformat": 4,
  "nbformat_minor": 0,
  "metadata": {
    "colab": {
      "provenance": [],
      "include_colab_link": true
    },
    "kernelspec": {
      "name": "python3",
      "display_name": "Python 3"
    },
    "language_info": {
      "name": "python"
    }
  },
  "cells": [
    {
      "cell_type": "markdown",
      "metadata": {
        "id": "view-in-github",
        "colab_type": "text"
      },
      "source": [
        "<a href=\"https://colab.research.google.com/github/Bayinc/GOOGLECOLAB/blob/main/Clase_5.ipynb\" target=\"_parent\"><img src=\"https://colab.research.google.com/assets/colab-badge.svg\" alt=\"Open In Colab\"/></a>"
      ]
    },
    {
      "cell_type": "markdown",
      "source": [
        "# Contenidos de esta clase\n",
        "\n",
        "- Funciones en Python\n",
        "- Uso de funciones en Python\n",
        "- f-string\n",
        "- Importar funciones en Python"
      ],
      "metadata": {
        "id": "ke43pUFXzXsY"
      }
    },
    {
      "cell_type": "markdown",
      "source": [
        "# Funciones\n",
        "\n",
        "- Una función en Python es un bloque de código reutilizable que realiza una tarea específica.\n",
        "- Sirve para organizar el código, evitar repeticiones y hacerlo más legible y mantenible.\n",
        "- En términos sencillos, nos realizan gran parte del trabajo."
      ],
      "metadata": {
        "id": "TEgs5e1FlMU7"
      }
    },
    {
      "cell_type": "markdown",
      "source": [
        "✅ Estructura básica de una función\n",
        "\n",
        "```python\n",
        "def nombre_funcion(parámetros):\n",
        "    # Bloque de código\n",
        "    return resultado\n"
      ],
      "metadata": {
        "id": "U8Somj-208tA"
      }
    },
    {
      "cell_type": "markdown",
      "source": [
        "- **def** se utiliza para indicar que se creará una función.\n",
        "- los **parámetros** son los valores que insertaremos en la función.\n",
        "- **return** se utiliza para definir qué es lo que retornaremos.\n",
        "- **identación**: es ir dejando espacios a la izquierda, para dar a entender que está dentro de algo (clave en python).\n",
        "- El nombre de los **parámetros** es arbitrario, pero es útil darle nombres que nos hagan sentido."
      ],
      "metadata": {
        "id": "msJDHrMS1ENN"
      }
    },
    {
      "cell_type": "markdown",
      "source": [
        "## 1.1 Conceptos básicos"
      ],
      "metadata": {
        "id": "2ZqHZl_Yqyti"
      }
    },
    {
      "cell_type": "code",
      "source": [
        "# Crearemos una función sin argumentos\n",
        "# Esta función se llama \"saludar\" y siempre imprimirá \"Hola, ¿cómo estás?\" cuando la utilicemos\n",
        "\n",
        "def saludar():\n",
        "    print(\"Hola, ¿cómo estás?\")"
      ],
      "metadata": {
        "id": "Iz9W_a38pJ6A"
      },
      "execution_count": null,
      "outputs": []
    },
    {
      "cell_type": "code",
      "source": [
        "# LLamamos a la función \"saludar\"\n",
        "# OJO que no recibe ningún valor como input\n",
        "\n",
        "saludar()"
      ],
      "metadata": {
        "id": "Zqq29aV6ppKV"
      },
      "execution_count": null,
      "outputs": []
    },
    {
      "cell_type": "code",
      "source": [
        "# Crearemos una función sin argumentos y sin print\n",
        "def saludar():\n",
        "    return \"Hola, ¿Cómo va tu día?\""
      ],
      "metadata": {
        "id": "zl6VCV__p6hF"
      },
      "execution_count": null,
      "outputs": []
    },
    {
      "cell_type": "code",
      "source": [
        "saludar()"
      ],
      "metadata": {
        "id": "BJenpY5-qArK"
      },
      "execution_count": null,
      "outputs": []
    },
    {
      "cell_type": "markdown",
      "source": [
        "En este caso el **return** es similar con el **print**, pero **NO ES LO MISMO**."
      ],
      "metadata": {
        "id": "-Dn9FkKc3Yzy"
      }
    },
    {
      "cell_type": "code",
      "source": [
        "# Crearemos una función de un argumento, lo que implica que insertamos solo un valor\n",
        "# El nombre de la función es \"edad_cuadrado\"\n",
        "# Esta función toma el parámetro, el cual es \"edad\", y lo eleva al cuadrado\n",
        "\n",
        "def edad_cuadrado(edad):\n",
        "  return edad**2"
      ],
      "metadata": {
        "id": "Sa4a9tMVqv-K"
      },
      "execution_count": null,
      "outputs": []
    },
    {
      "cell_type": "code",
      "source": [
        "# Llamamos la función indicando el valor del argumento\n",
        "edad_cuadrado(30)"
      ],
      "metadata": {
        "colab": {
          "base_uri": "https://localhost:8080/"
        },
        "id": "dAuebeHDq_oV",
        "outputId": "a619b94d-3ee7-40df-fdc8-f8004784eefc"
      },
      "execution_count": null,
      "outputs": [
        {
          "output_type": "execute_result",
          "data": {
            "text/plain": [
              "900"
            ]
          },
          "metadata": {},
          "execution_count": 11
        }
      ]
    },
    {
      "cell_type": "markdown",
      "source": [
        "* Puedes ver que cuando llamamos a la función \"edad_cuadrado\" en ningún momento indicamos \"edad\" como tal.\n",
        "* Lo que hacemos es indicar un número, y ese número dentro de la función representa la edad, y le realiza las operaciones correspondientes."
      ],
      "metadata": {
        "id": "YjQTngAb56hO"
      }
    },
    {
      "cell_type": "markdown",
      "source": [
        "## 1.2 Ejemplos prácticos"
      ],
      "metadata": {
        "id": "aE2Hq4gdt1jd"
      }
    },
    {
      "cell_type": "code",
      "source": [
        "# Crearemos una función que recibe dos argumentos\n",
        "# Los argumentos son separan por \",\"\n",
        "# Es importante respetar el orden cuando llamamos la función\n",
        "\n",
        "def area_triangulo(base,altura):\n",
        "  area = base*altura/2\n",
        "  return area"
      ],
      "metadata": {
        "id": "cQ7ZrTOiuAdK"
      },
      "execution_count": null,
      "outputs": []
    },
    {
      "cell_type": "code",
      "source": [
        "# LLamamos la función indicando dos argumentos (solo respetando el orden)\n",
        "\n",
        "area_triangulo(20,10)"
      ],
      "metadata": {
        "colab": {
          "base_uri": "https://localhost:8080/"
        },
        "id": "ll07_JALE_d9",
        "outputId": "6d9222a2-26e0-42a8-8475-67777db709c9"
      },
      "execution_count": null,
      "outputs": [
        {
          "output_type": "execute_result",
          "data": {
            "text/plain": [
              "100.0"
            ]
          },
          "metadata": {},
          "execution_count": 13
        }
      ]
    },
    {
      "cell_type": "code",
      "source": [
        "# LLamamos la función indicando explícitamente los dos argumentos\n",
        "\n",
        "area_triangulo(base = 20,altura = 10)"
      ],
      "metadata": {
        "colab": {
          "base_uri": "https://localhost:8080/"
        },
        "id": "42vJjuubFzbE",
        "outputId": "25f2c2b8-1366-44a7-e7c5-9466403f5a5d"
      },
      "execution_count": null,
      "outputs": [
        {
          "output_type": "execute_result",
          "data": {
            "text/plain": [
              "100.0"
            ]
          },
          "metadata": {},
          "execution_count": 14
        }
      ]
    },
    {
      "cell_type": "code",
      "source": [
        "# LLamamos la función indicando explícitamente los dos argumentos y cambiando el orden\n",
        "\n",
        "area_triangulo(altura = 10,base = 20)"
      ],
      "metadata": {
        "colab": {
          "base_uri": "https://localhost:8080/"
        },
        "id": "76ZorCIeuOK4",
        "outputId": "1c7c6b2d-7928-42db-d434-bb1956d33952"
      },
      "execution_count": null,
      "outputs": [
        {
          "output_type": "execute_result",
          "data": {
            "text/plain": [
              "100.0"
            ]
          },
          "metadata": {},
          "execution_count": 15
        }
      ]
    },
    {
      "cell_type": "code",
      "source": [
        "# Creamos una función que calcula el volumen de un cilindro\n",
        "\n",
        "def volumen_cilindro(radio,altura):\n",
        "  volumen = 3.141595 * radio**2 * altura\n",
        "  return volumen"
      ],
      "metadata": {
        "id": "dOhuD559uPpf"
      },
      "execution_count": null,
      "outputs": []
    },
    {
      "cell_type": "code",
      "source": [
        "volumen_cilindro(10,15)"
      ],
      "metadata": {
        "colab": {
          "base_uri": "https://localhost:8080/"
        },
        "id": "4jYe67npuyKv",
        "outputId": "dbce8180-45bd-423c-ae39-e2240d46f5ca"
      },
      "execution_count": null,
      "outputs": [
        {
          "output_type": "execute_result",
          "data": {
            "text/plain": [
              "4712.392500000001"
            ]
          },
          "metadata": {},
          "execution_count": 18
        }
      ]
    },
    {
      "cell_type": "code",
      "source": [
        "# Creamos una función que calcula el volumen de un cilindro y nos entrega en texto\n",
        "\n",
        "def volumen_cilindro(radio,altura):\n",
        "  volumen = 3.141595 * radio**2 * altura\n",
        "  return \"el volumen del cilindro es: \"+str(volumen)+\" cm\""
      ],
      "metadata": {
        "id": "F4J4dVtwcDjm"
      },
      "execution_count": null,
      "outputs": []
    },
    {
      "cell_type": "code",
      "source": [
        "volumen_cilindro(10,15)"
      ],
      "metadata": {
        "colab": {
          "base_uri": "https://localhost:8080/",
          "height": 36
        },
        "id": "4XK9T0ZzcMch",
        "outputId": "5e4cb34d-d211-4a20-e98e-228e83febafb"
      },
      "execution_count": null,
      "outputs": [
        {
          "output_type": "execute_result",
          "data": {
            "text/plain": [
              "'el volumen del cilindro es: 4712.392500000001 cm'"
            ],
            "application/vnd.google.colaboratory.intrinsic+json": {
              "type": "string"
            }
          },
          "metadata": {},
          "execution_count": 20
        }
      ]
    },
    {
      "cell_type": "markdown",
      "source": [
        "## 1.3 Importar funciones en Python\n",
        "\n",
        "- Python tiene una gran cantidad de **librerías** (también llamadas **módulos**) que contienen **funciones ya creadas** que puedes reutilizar en tu código.\n",
        "- La idea de esto es que hay cosas ya creadas que nos ahorrarán muchísimas horas de trabajo.\n",
        "- Usamos la palabra clave `import` para importar las librerías en Python."
      ],
      "metadata": {
        "id": "KjwRRg5myD7X"
      }
    },
    {
      "cell_type": "code",
      "source": [
        "# Importaremos numpy, la cual es una librería que nos ofrece muchísimas funciones matemáticas\n",
        "# Como utilizamos \"as np\", podemos decir que nos referiremos a \"numpy\" bajo el nombre \"np\"\n",
        "\n",
        "import numpy as np"
      ],
      "metadata": {
        "id": "8gH54nQ3yJZ_"
      },
      "execution_count": null,
      "outputs": []
    },
    {
      "cell_type": "code",
      "source": [
        "notas = [5,5.6,4.7,6.8,7.0]"
      ],
      "metadata": {
        "id": "26ibXELdyNbc"
      },
      "execution_count": null,
      "outputs": []
    },
    {
      "cell_type": "code",
      "source": [
        "# Esto se lee como:\n",
        "# Del módulo/librería \"numpy\" utilizaremos la función \"min\" sobre la lista \"notas\"\n",
        "\n",
        "np.min(notas)"
      ],
      "metadata": {
        "colab": {
          "base_uri": "https://localhost:8080/"
        },
        "id": "UHkcWljTzAQs",
        "outputId": "4ca0b867-aa43-410f-9f11-364f9be63db4"
      },
      "execution_count": null,
      "outputs": [
        {
          "output_type": "execute_result",
          "data": {
            "text/plain": [
              "np.float64(4.7)"
            ]
          },
          "metadata": {},
          "execution_count": 23
        }
      ]
    },
    {
      "cell_type": "code",
      "source": [
        "# Usamos print()\n",
        "print(np.min(notas))"
      ],
      "metadata": {
        "colab": {
          "base_uri": "https://localhost:8080/"
        },
        "id": "3rr0jacpS7iZ",
        "outputId": "abde95ce-b670-4b23-f9ec-63d73096c8d0"
      },
      "execution_count": null,
      "outputs": [
        {
          "output_type": "stream",
          "name": "stdout",
          "text": [
            "4.7\n"
          ]
        }
      ]
    },
    {
      "cell_type": "code",
      "source": [
        "# Máxima nota\n",
        "np.max(notas)"
      ],
      "metadata": {
        "colab": {
          "base_uri": "https://localhost:8080/"
        },
        "id": "4gvFTbk6zDtN",
        "outputId": "933b509a-bd44-4e33-c8e1-11fabe6089d6"
      },
      "execution_count": null,
      "outputs": [
        {
          "output_type": "execute_result",
          "data": {
            "text/plain": [
              "np.float64(7.0)"
            ]
          },
          "metadata": {},
          "execution_count": 27
        }
      ]
    },
    {
      "cell_type": "code",
      "source": [
        "# Promedio de notas\n",
        "np.mean(notas)"
      ],
      "metadata": {
        "colab": {
          "base_uri": "https://localhost:8080/"
        },
        "id": "hHzzuW8izFcF",
        "outputId": "5e076ab3-e163-44ee-a15c-4932a9273f45"
      },
      "execution_count": null,
      "outputs": [
        {
          "output_type": "execute_result",
          "data": {
            "text/plain": [
              "np.float64(5.82)"
            ]
          },
          "metadata": {},
          "execution_count": 29
        }
      ]
    },
    {
      "cell_type": "code",
      "source": [
        "# Deviación estándar de notas\n",
        "np.std(notas)"
      ],
      "metadata": {
        "colab": {
          "base_uri": "https://localhost:8080/"
        },
        "id": "9J4Fx7kfzHeX",
        "outputId": "d696c045-380c-409a-93ef-a40c8e11b612"
      },
      "execution_count": null,
      "outputs": [
        {
          "output_type": "execute_result",
          "data": {
            "text/plain": [
              "np.float64(0.9303762679690405)"
            ]
          },
          "metadata": {},
          "execution_count": 30
        }
      ]
    },
    {
      "cell_type": "code",
      "source": [
        "# También podemos omitir el uso de \"numpy\" o \"np\"\n",
        "# En este caso de la librería \"numpy\", importamos la función \"mean\" bajo el nombre de \"media\"\n",
        "\n",
        "from numpy import mean as media"
      ],
      "metadata": {
        "id": "ShsQ13ObDwku"
      },
      "execution_count": null,
      "outputs": []
    },
    {
      "cell_type": "code",
      "source": [
        "media(notas)"
      ],
      "metadata": {
        "colab": {
          "base_uri": "https://localhost:8080/"
        },
        "id": "XV8K3CiHD0js",
        "outputId": "0a1d7221-5320-45db-f909-ec88d674055d"
      },
      "execution_count": null,
      "outputs": [
        {
          "output_type": "execute_result",
          "data": {
            "text/plain": [
              "np.float64(5.82)"
            ]
          },
          "metadata": {},
          "execution_count": 37
        }
      ]
    },
    {
      "cell_type": "markdown",
      "source": [
        "Podemos ver que llamamos directamente a la función."
      ],
      "metadata": {
        "id": "2E8zWtMZU252"
      }
    },
    {
      "cell_type": "markdown",
      "source": [
        "# Conclusiones\n",
        "\n",
        "- En Python es posible crear funciones para resolver problemas específicos.\n",
        "- Existen librerías que ya tienen todo resuelto, y debemos aprender a usarlas, ya que nos ahorrarán un tiempo ridículo."
      ],
      "metadata": {
        "id": "JTi2LFuHU5vY"
      }
    }
  ]
}