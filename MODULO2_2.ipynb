{
  "nbformat": 4,
  "nbformat_minor": 0,
  "metadata": {
    "colab": {
      "provenance": [],
      "toc_visible": true,
      "authorship_tag": "ABX9TyM1n5FNhLB79PKt18LhIEAE",
      "include_colab_link": true
    },
    "kernelspec": {
      "name": "python3",
      "display_name": "Python 3"
    },
    "language_info": {
      "name": "python"
    }
  },
  "cells": [
    {
      "cell_type": "markdown",
      "metadata": {
        "id": "view-in-github",
        "colab_type": "text"
      },
      "source": [
        "<a href=\"https://colab.research.google.com/github/Bayinc/GOOGLECOLAB/blob/main/MODULO2_2.ipynb\" target=\"_parent\"><img src=\"https://colab.research.google.com/assets/colab-badge.svg\" alt=\"Open In Colab\"/></a>"
      ]
    },
    {
      "cell_type": "code",
      "execution_count": null,
      "metadata": {
        "id": "4v6rlzSZfRt2"
      },
      "outputs": [],
      "source": []
    },
    {
      "cell_type": "markdown",
      "source": [
        "#**1.ESTO ES UN TITULO**"
      ],
      "metadata": {
        "id": "9FwDXG1BfULk"
      }
    },
    {
      "cell_type": "markdown",
      "source": [
        "##***1.1 ESTO ES UN SUBTITULO***"
      ],
      "metadata": {
        "id": "nz7Ds14CfUUU"
      }
    },
    {
      "cell_type": "markdown",
      "source": [
        "##*1.2 OTRO MA*\n"
      ],
      "metadata": {
        "id": "E7pAVInlfUbi"
      }
    },
    {
      "cell_type": "markdown",
      "source": [
        "##*1.3 OTRO MA*"
      ],
      "metadata": {
        "id": "QovNRN-CfrLz"
      }
    },
    {
      "cell_type": "code",
      "source": [
        "5+5"
      ],
      "metadata": {
        "colab": {
          "base_uri": "https://localhost:8080/"
        },
        "id": "ASC3nCA9gK71",
        "outputId": "3919aa7f-3baf-4b3b-dd79-04e587a59db3"
      },
      "execution_count": null,
      "outputs": [
        {
          "output_type": "execute_result",
          "data": {
            "text/plain": [
              "10"
            ]
          },
          "metadata": {},
          "execution_count": 1
        }
      ]
    },
    {
      "cell_type": "code",
      "source": [
        "10*24"
      ],
      "metadata": {
        "colab": {
          "base_uri": "https://localhost:8080/"
        },
        "id": "AAuo_of1gMe-",
        "outputId": "19045f6e-4226-4d42-adaa-30a96cd65ca4"
      },
      "execution_count": null,
      "outputs": [
        {
          "output_type": "execute_result",
          "data": {
            "text/plain": [
              "240"
            ]
          },
          "metadata": {},
          "execution_count": 2
        }
      ]
    },
    {
      "cell_type": "code",
      "source": [
        "#TEXTO IMPORTANTE\n",
        "\"FSOCIETY\""
      ],
      "metadata": {
        "colab": {
          "base_uri": "https://localhost:8080/",
          "height": 36
        },
        "id": "KrGbvIBSgMPY",
        "outputId": "3b507a56-39ed-4d8c-a55b-42879e495da2"
      },
      "execution_count": null,
      "outputs": [
        {
          "output_type": "execute_result",
          "data": {
            "text/plain": [
              "'FSOCIETY'"
            ],
            "application/vnd.google.colaboratory.intrinsic+json": {
              "type": "string"
            }
          },
          "metadata": {},
          "execution_count": 3
        }
      ]
    }
  ]
}